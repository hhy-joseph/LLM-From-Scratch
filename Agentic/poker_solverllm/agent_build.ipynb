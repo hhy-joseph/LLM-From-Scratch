{
 "cells": [
  {
   "cell_type": "code",
   "execution_count": 1,
   "metadata": {},
   "outputs": [],
   "source": [
    "%%capture --no-stderr\n",
    "%pip install -U -q langgraph langsmith langchain_xai pokerkit python-dotenv pillow"
   ]
  },
  {
   "cell_type": "markdown",
   "metadata": {},
   "source": [
    "# Building a Poker Hand Analysis Agent with LangGraph\n",
    "\n",
    "This notebook demonstrates how to build an intelligent poker hand analysis agent using LangGraph and the Grok API. We'll create a system that can:\n",
    "\n",
    "1. Analyze poker hand strength using Monte Carlo simulations\n",
    "2. Provide strategic decision-making advice at different stages of a poker game\n",
    "3. Process visual information from images of poker hands (optionally)\n",
    "\n",
    "The notebook follows a progressive approach, starting with simple concepts and building towards a complete solution.\n",
    "\n",
    "**Date**: April 2025  \n",
    "**Technologies**: LangGraph, LangChain, PokerKit, XAI"
   ]
  },
  {
   "cell_type": "code",
   "execution_count": 2,
   "metadata": {},
   "outputs": [],
   "source": [
    "import os \n",
    "from dotenv import load_dotenv\n",
    "\n",
    "# Load environment variables from .env file\n",
    "load_dotenv()\n",
    "\n",
    "# Retrieve API key from environment variables\n",
    "grok_api_key = os.getenv(\"GROK_API_KEY\")\n",
    "\n",
    "# Verify API key is available\n",
    "if not grok_api_key:\n",
    "    raise ValueError(\"GROK_API_KEY not found. Please set it in your .env file.\")"
   ]
  },
  {
   "cell_type": "markdown",
   "metadata": {},
   "source": [
    "## 1. Building a Basic Chatbot with LangGraph\n",
    "\n",
    "LangGraph is a powerful framework for building agents as graphs. Before we dive into poker analysis, let's understand the fundamentals by building a simple chatbot.\n",
    "\n",
    "### What is a StateGraph?\n",
    "\n",
    "A StateGraph represents our agent as a state machine where:\n",
    "- **Nodes** are functions or operations the agent can perform (like generating responses or using tools)\n",
    "- **Edges** define how the agent transitions between these functions\n",
    "- **State** maintains information throughout the conversation\n",
    "\n",
    "This approach allows us to create complex, multi-step reasoning flows with more control than simple chains."
   ]
  },
  {
   "cell_type": "code",
   "execution_count": 3,
   "metadata": {},
   "outputs": [],
   "source": [
    "from typing import Annotated\n",
    "from typing_extensions import TypedDict\n",
    "from langgraph.graph import StateGraph, START, END\n",
    "from langgraph.graph.message import add_messages\n",
    "\n",
    "# Define our State structure\n",
    "class State(TypedDict):\n",
    "    # Messages have the type \"list\". The `add_messages` function\n",
    "    # in the annotation defines how this state key should be updated\n",
    "    # (in this case, it appends messages to the list, rather than overwriting them)\n",
    "    messages: Annotated[list, add_messages]\n",
    "\n",
    "# Initialize a new StateGraph with our State definition\n",
    "graph_builder = StateGraph(State)"
   ]
  },
  {
   "cell_type": "markdown",
   "metadata": {},
   "source": [
    "### Setting Up the LLM\n",
    "\n",
    "For our chatbot, we'll use the Grok-2-vision model which can process both text and images - useful for our poker application later."
   ]
  },
  {
   "cell_type": "code",
   "execution_count": 4,
   "metadata": {},
   "outputs": [
    {
     "data": {
      "text/plain": [
       "<langgraph.graph.state.StateGraph at 0x104836b90>"
      ]
     },
     "execution_count": 4,
     "metadata": {},
     "output_type": "execute_result"
    }
   ],
   "source": [
    "from langchain_xai import ChatXAI\n",
    "\n",
    "# Initialize the Grok model with vision capabilities\n",
    "llm = ChatXAI(api_key=grok_api_key,\n",
    "              model='grok-2-vision-1212')\n",
    "\n",
    "# Define the chatbot function that will process state and generate responses\n",
    "def chatbot(state: State):\n",
    "    # The function receives the current state and returns an updated state\n",
    "    # with the model's response appended to messages\n",
    "    return {\"messages\": [llm.invoke(state[\"messages\"])]}\n",
    "\n",
    "# Add the chatbot node to our graph\n",
    "graph_builder.add_node(\"chatbot\", chatbot)"
   ]
  },
  {
   "cell_type": "markdown",
   "metadata": {},
   "source": [
    "### Defining the Graph Flow\n",
    "\n",
    "Now we'll establish how our graph should execute by setting entry and exit points."
   ]
  },
  {
   "cell_type": "code",
   "execution_count": 5,
   "metadata": {},
   "outputs": [],
   "source": [
    "# Define the starting point - all execution begins at the chatbot node\n",
    "graph_builder.add_edge(START, \"chatbot\")\n",
    "\n",
    "# Define the ending point - after the chatbot generates a response, execution can finish\n",
    "graph_builder.add_edge(\"chatbot\", END)\n",
    "\n",
    "# Compile the graph into an executable form\n",
    "graph = graph_builder.compile()"
   ]
  },
  {
   "cell_type": "code",
   "execution_count": 6,
   "metadata": {},
   "outputs": [
    {
     "data": {
      "image/png": "[encoded data removed]",
      "text/plain": [
       "<IPython.core.display.Image object>"
      ]
     },
     "metadata": {},
     "output_type": "display_data"
    }
   ],
   "source": [
    "from IPython.display import Image, display\n",
    "\n",
    "try:\n",
    "    # Visualize the graph structure for better understanding\n",
    "    display(Image(graph.get_graph().draw_mermaid_png()))\n",
    "except Exception:\n",
    "    print(\"Graph visualization requires additional dependencies (graphviz).\")\n",
    "    print(\"You can install them with: pip install graphviz\")"
   ]
  },
  {
   "cell_type": "markdown",
   "metadata": {},
   "source": [
    "## 2. Enhancing the Chatbot with Poker Tools\n",
    "\n",
    "Now let's make our agent more powerful by adding poker analysis capabilities. We'll build tools that can calculate hand strength and provide strategic advice.\n",
    "\n",
    "### Understanding Poker Hand Analysis\n",
    "\n",
    "Poker hand strength is typically evaluated in two ways:\n",
    "1. **Absolute hand strength**: How strong your hand is based on poker hand rankings\n",
    "2. **Relative hand strength**: The probability your hand will win against opponents' likely holdings\n",
    "\n",
    "We'll use Monte Carlo simulations to estimate hand strength by repeatedly simulating random scenarios. This approach:\n",
    "- Generates many random opponent hands and board completions\n",
    "- Evaluates the win/loss outcomes across these simulations\n",
    "- Calculates a probability of winning (hand strength)"
   ]
  },
  {
   "cell_type": "code",
   "execution_count": 7,
   "metadata": {},
   "outputs": [],
   "source": [
    "from concurrent.futures import ProcessPoolExecutor\n",
    "from pokerkit import *\n",
    "\n",
    "# Example hand strength calculation\n",
    "def example_hand_strength():\n",
    "    with ProcessPoolExecutor() as executor:\n",
    "        result = calculate_hand_strength(\n",
    "            player_count = 2,                    # Two players: you vs opponent\n",
    "            hole_range = parse_range('2sTh'),    # Your hole cards: 2 of spades, 10 of hearts\n",
    "            board_cards = Card.parse('Kc8h8d'),  # Board: King of clubs, 8 of hearts, 8 of diamonds\n",
    "            hole_dealing_count = 2,              # Standard 2 hole cards per player\n",
    "            board_dealing_count = 5,             # Final board size in Texas Hold'em\n",
    "            deck = Deck.STANDARD,                # Standard 52-card deck\n",
    "            hand_types = (StandardHighHand,),    # Texas Hold'em high hand evaluation\n",
    "            sample_count=1000,                   # Number of Monte Carlo simulations\n",
    "            executor=executor,                   # For parallel computation\n",
    "        )\n",
    "    return result\n",
    "\n",
    "# Note: Uncomment to run this example\n",
    "# print(\"Example hand strength:\", example_hand_strength())"
   ]
  },
  {
   "cell_type": "markdown",
   "metadata": {},
   "source": [
    "### Creating a Hand Strength Tool\n",
    "\n",
    "Now let's create a properly structured tool that our agent can use to calculate hand strength."
   ]
  },
  {
   "cell_type": "code",
   "execution_count": 8,
   "metadata": {},
   "outputs": [],
   "source": [
    "from concurrent.futures import ProcessPoolExecutor\n",
    "from pokerkit import calculate_hand_strength, parse_range, Card, Deck, StandardHighHand\n",
    "from langchain_core.tools import tool\n",
    "from typing import Optional\n",
    "from langgraph.prebuilt import ToolNode\n",
    "\n",
    "@tool\n",
    "def get_hand_strength(hole_range: str, board_cards: Optional[str] = '') -> float:\n",
    "    \"\"\"\n",
    "    Compute a player's hand strength in Texas Hold'em poker using Monte Carlo simulation.\n",
    "\n",
    "    Args:\n",
    "        hole_range (str): The player's hole cards or range (e.g., 'AsKs' for Ace-King suited, \n",
    "                          'AK' for all AK combos). Uses standard poker notation: \n",
    "                          2-9, T(for 10), J, Q, K, A for ranks; Rank are in Capital letter\n",
    "                          s (spades), h (hearts), d (diamonds), c (clubs) for suits, which are in lower case.\n",
    "        board_cards (str, optional): Community cards on the board (e.g., 'Kc8h8d' for King of clubs, \n",
    "                                     8 of hearts, 8 of diamonds). Defaults to empty string (preflop scenario).\n",
    "\n",
    "    Returns:\n",
    "        float: Hand strength between 0 and 1, where closer to 1 indicates a stronger hand \n",
    "               (probability of beating a random opponent's hand).\n",
    "\n",
    "    Raises:\n",
    "        ValueError: If hole_range or board_cards are invalid or malformed.\n",
    "    \"\"\"\n",
    "    try:\n",
    "        # Parse hole range and board cards\n",
    "        parsed_hole_range = parse_range(hole_range)\n",
    "        parsed_board_cards = Card.parse(board_cards) if board_cards else ('')\n",
    "\n",
    "        # Use ProcessPoolExecutor for parallel computation\n",
    "        with ProcessPoolExecutor() as executor:\n",
    "            result = calculate_hand_strength(\n",
    "                player_count=2,                # Two players: user vs. random opponent\n",
    "                hole_range=parsed_hole_range,  # Parsed hole cards/range\n",
    "                board_cards=parsed_board_cards,# Parsed board cards (empty if preflop)\n",
    "                hole_dealing_count=2,          # Standard 2 hole cards per player\n",
    "                board_dealing_count=5,         # Final board size (Texas Hold'em)\n",
    "                deck=Deck.STANDARD,            # Standard 52-card deck\n",
    "                hand_types=(StandardHighHand,),# Texas Hold'em hand evaluation\n",
    "                sample_count=1000,             # Monte Carlo simulation iterations\n",
    "                executor=executor              # Parallel execution\n",
    "            )\n",
    "        \n",
    "        # Ensure result is between 0 and 1\n",
    "        return float(result)\n",
    "\n",
    "    except Exception as e:\n",
    "        raise ValueError(f\"Error calculating hand strength: {str(e)}\")"
   ]
  },
  {
   "cell_type": "code",
   "execution_count": 9,
   "metadata": {},
   "outputs": [],
   "source": [
    "# Create a collection of tools and instantiate a ToolNode\n",
    "tools = [get_hand_strength]\n",
    "tool_node = ToolNode(tools)"
   ]
  },
  {
   "cell_type": "markdown",
   "metadata": {},
   "source": [
    "## 3. Building a ReAct Agent for Poker Analysis\n",
    "\n",
    "Now we'll create a more sophisticated agent that can:\n",
    "1. Process user queries about poker hands\n",
    "2. Reason about what tools it needs to use\n",
    "3. Call the hand strength tool to get numerical data\n",
    "4. Formulate recommendations based on the analysis\n",
    "\n",
    "This follows the ReAct pattern (Reasoning + Acting) where the agent alternates between reasoning about what to do and taking actions."
   ]
  },
  {
   "cell_type": "code",
   "execution_count": 10,
   "metadata": {},
   "outputs": [],
   "source": [
    "# Add our hand strength tool to the LLM\n",
    "model_with_tools = ChatXAI(\n",
    "    model=\"grok-2-vision-1212\",\n",
    "    api_key=grok_api_key\n",
    ").bind_tools(tools)"
   ]
  },
  {
   "cell_type": "markdown",
   "metadata": {},
   "source": [
    "### Creating the Workflow Graph\n",
    "\n",
    "Our ReAct agent workflow will cycle between:\n",
    "1. The LLM deciding what to do (reasoning)\n",
    "2. Calling tools when needed (acting)\n",
    "3. Receiving tool results and continuing the reasoning process"
   ]
  },
  {
   "cell_type": "code",
   "execution_count": 11,
   "metadata": {},
   "outputs": [],
   "source": [
    "from typing import Literal\n",
    "from langgraph.graph import StateGraph, MessagesState, START, END\n",
    "\n",
    "# This function determines whether the agent should continue processing or finish\n",
    "def should_continue(state: MessagesState):\n",
    "    messages = state[\"messages\"]\n",
    "    last_message = messages[-1]\n",
    "    \n",
    "    # If the last message contains tool calls, route to the tools node\n",
    "    if last_message.tool_calls:\n",
    "        return \"tools\"\n",
    "    # Otherwise, end the workflow\n",
    "    return END\n",
    "\n",
    "# This function calls the LLM with the current messages\n",
    "def call_model(state: MessagesState):\n",
    "    messages = state[\"messages\"]\n",
    "    response = model_with_tools.invoke(messages)\n",
    "    return {\"messages\": [response]}\n",
    "\n",
    "# Create a new StateGraph with MessagesState (a predefined state type for chat)\n",
    "workflow = StateGraph(MessagesState)\n",
    "\n",
    "# Add the two nodes we'll cycle between\n",
    "workflow.add_node(\"agent\", call_model)  # For reasoning\n",
    "workflow.add_node(\"tools\", tool_node)   # For acting\n",
    "\n",
    "# Define the graph flow\n",
    "workflow.add_edge(START, \"agent\")  # Always start with the agent reasoning\n",
    "workflow.add_conditional_edges(\n",
    "    \"agent\",                # From the agent node\n",
    "    should_continue,        # Use this function to decide where to go next\n",
    "    [\"tools\", END]          # Potential destinations: tools or end\n",
    ")\n",
    "workflow.add_edge(\"tools\", \"agent\")  # After using tools, go back to the agent\n",
    "\n",
    "# Compile the workflow into an executable application\n",
    "app = workflow.compile()"
   ]
  },
  {
   "cell_type": "code",
   "execution_count": 12,
   "metadata": {},
   "outputs": [
    {
     "data": {
      "image/png": "[encoded data removed]",
      "text/plain": [
       "<IPython.core.display.Image object>"
      ]
     },
     "metadata": {},
     "output_type": "display_data"
    }
   ],
   "source": [
    "from IPython.display import Image, display\n",
    "\n",
    "try:\n",
    "    # Visualize the ReAct agent workflow\n",
    "    display(Image(app.get_graph().draw_mermaid_png()))\n",
    "except Exception:\n",
    "    print(\"Graph visualization requires additional dependencies (graphviz).\")"
   ]
  },
  {
   "cell_type": "markdown",
   "metadata": {},
   "source": [
    "## 4. Processing Poker Hand Images (Optional)\n",
    "\n",
    "Let's enhance our agent to analyze poker hands from images. This is useful for players who want to analyze real game situations from screenshots or photos.\n",
    "\n",
    "### Best Practices for Image Processing\n",
    "\n",
    "When sending images to an LLM, it's important to:\n",
    "1. Resize large images to reduce bandwidth and processing requirements\n",
    "2. Ensure the image is clear enough for the model to interpret card values and suits\n",
    "3. Use efficient base64 encoding to include the image in messages"
   ]
  },
  {
   "cell_type": "code",
   "execution_count": 13,
   "metadata": {},
   "outputs": [],
   "source": [
    "import base64\n",
    "from PIL import Image as PILImage\n",
    "import io\n",
    "\n",
    "def process_image_for_llm(image_path, max_size=(800, 800)):\n",
    "    \"\"\"\n",
    "    Process an image for sending to an LLM:\n",
    "    1. Resize if too large\n",
    "    2. Convert to base64 encoding\n",
    "    \n",
    "    Args:\n",
    "        image_path (str): Path to the image file\n",
    "        max_size (tuple): Maximum dimensions (width, height)\n",
    "        \n",
    "    Returns:\n",
    "        str: Base64-encoded image string\n",
    "    \"\"\"\n",
    "    # Open and resize the image if needed\n",
    "    with PILImage.open(image_path) as img:\n",
    "        # Check if resizing is needed\n",
    "        if img.width > max_size[0] or img.height > max_size[1]:\n",
    "            img.thumbnail(max_size, PILImage.LANCZOS)\n",
    "            \n",
    "        # Save to bytes buffer\n",
    "        buffer = io.BytesIO()\n",
    "        img.save(buffer, format=\"JPEG\", quality=85)  # Reduced quality for smaller size\n",
    "        buffer.seek(0)\n",
    "        \n",
    "        # Convert to base64\n",
    "        encoded_string = base64.b64encode(buffer.read()).decode(\"utf-8\")\n",
    "        \n",
    "        # Optional: Print image size info\n",
    "        print(f\"Processed image size: {img.width}x{img.height}, Base64 length: {len(encoded_string)}\")\n",
    "        \n",
    "        return encoded_string"
   ]
  },
  {
   "cell_type": "markdown",
   "metadata": {},
   "source": [
    "### Creating Messages with Optional Images\n",
    "\n",
    "When sending a message to our agent, we need a way to include an image only if one is available. Let's build a helper function for this:"
   ]
  },
  {
   "cell_type": "code",
   "execution_count": 14,
   "metadata": {},
   "outputs": [],
   "source": [
    "from langchain_core.messages import HumanMessage\n",
    "\n",
    "def create_user_message(text, image_base64=None):\n",
    "    \"\"\"\n",
    "    Create a user message with optional image content\n",
    "    \n",
    "    Args:\n",
    "        text (str): The text message from the user\n",
    "        image_base64 (str, optional): Base64-encoded image data\n",
    "        \n",
    "    Returns:\n",
    "        HumanMessage: Properly formatted message for LangChain\n",
    "    \"\"\"\n",
    "    # Initialize content list with text component\n",
    "    content = [{\"type\": \"text\", \"text\": text}]\n",
    "    \n",
    "    # Add image component if provided\n",
    "    if image_base64:\n",
    "        image_content = {\n",
    "            \"type\": \"image_url\",\n",
    "            \"image_url\": {\n",
    "                \"url\": f\"data:image/jpeg;base64,{image_base64}\",\n",
    "                \"detail\": \"auto\"  # Use 'auto' for better compatibility\n",
    "            }\n",
    "        }\n",
    "        # Insert image before text for better visibility\n",
    "        content.insert(0, image_content)\n",
    "    \n",
    "    return HumanMessage(content=content)"
   ]
  },
  {
   "cell_type": "markdown",
   "metadata": {},
   "source": [
    "## 5. Testing the Poker Analysis Agent\n",
    "\n",
    "Now let's test our agent with various poker hand queries."
   ]
  },
  {
   "cell_type": "code",
   "execution_count": 15,
   "metadata": {},
   "outputs": [],
   "source": [
    "# Test 1: Text-only query about hand strength\n",
    "def run_text_query():\n",
    "    text_message = \"What's my hand strength with pocket cards 2sTh and board cards 8d Tc 9h?\"\n",
    "    user_message = create_user_message(text_message)\n",
    "    \n",
    "    print(\"\\nRunning text-only query...\\n\")\n",
    "    print(f\"User: {text_message}\\n\")\n",
    "    \n",
    "    # Run the agent with the message\n",
    "    for chunk in app.stream({\"messages\": [user_message]}, stream_mode=\"values\"):\n",
    "        try:\n",
    "            response = chunk[\"messages\"][-1].content\n",
    "            print(f\"Assistant: {response}\\n\")\n",
    "        except Exception as e:\n",
    "            print(f\"Error processing response: {e}\")"
   ]
  },
  {
   "cell_type": "code",
   "execution_count": 16,
   "metadata": {},
   "outputs": [],
   "source": [
    "# Test 2: Image + text query about a poker hand\n",
    "def run_image_query(image_path):\n",
    "    # Only process image if a path is provided\n",
    "    image_base64 = None\n",
    "    if image_path and os.path.exists(image_path):\n",
    "        try:\n",
    "            image_base64 = process_image_for_llm(image_path)\n",
    "            print(f\"Image processed successfully from {image_path}\")\n",
    "        except Exception as e:\n",
    "            print(f\"Error processing image: {e}\")\n",
    "            # Continue without image if there's an error\n",
    "            pass\n",
    "    \n",
    "    text_message = \"Analyze this poker hand and tell me what my best move would be.\"\n",
    "    user_message = create_user_message(text_message, image_base64)\n",
    "    \n",
    "    print(\"\\nRunning query with\" + (\" image...\" if image_base64 else \"out image (image not found)...\") + \"\\n\")\n",
    "    print(f\"User: {text_message}\\n\")\n",
    "    \n",
    "    # Run the agent with the message\n",
    "    for chunk in app.stream({\"messages\": [user_message]}, stream_mode=\"values\"):\n",
    "        try:\n",
    "            response = chunk[\"messages\"][-1].content\n",
    "            print(f\"Assistant: {response}\\n\")\n",
    "        except Exception as e:\n",
    "            print(f\"Error processing response: {e}\")"
   ]
  },
  {
   "cell_type": "code",
   "execution_count": 17,
   "metadata": {},
   "outputs": [],
   "source": [
    "# Run the tests to verify the agent\n",
    "# Only execute one of these at a time to see clear outputs\n",
    "\n",
    "# Uncomment to run text-only query\n",
    "# run_text_query()\n",
    "\n",
    "# Uncomment to run query with image (replace path with actual image path)\n",
    "# image_path = \"path/to/your/poker_hand_image.jpg\"\n",
    "# run_image_query(image_path)"
   ]
  },
  {
   "cell_type": "markdown",
   "metadata": {},
   "source": [
    "## 6. Running the Full Agent\n",
    "\n",
    "Now let's put everything together and run the complete agent to ensure it works correctly."
   ]
  },
  {
   "cell_type": "code",
   "execution_count": 21,
   "metadata": {},
   "outputs": [],
   "source": [
    "def run_poker_agent():\n",
    "    \"\"\"\n",
    "    Run the poker analysis agent with a sample query to verify functionality.\n",
    "    You can optionally include an image by providing a path.\n",
    "    \"\"\"\n",
    "    # Sample query\n",
    "    text_query = \"\"\"I have KhQh (King of hearts, Queen of hearts) and the flop is Ah Th 2c.\n",
    "    What's my hand strength and what should I do if my opponent bets half the pot?\"\"\"\n",
    "    \n",
    "    # Optional: Process image if path is provided\n",
    "    image_base64 = None\n",
    "    image_path = './src/tests/image.jpg'\n",
    "    \n",
    "    if image_path and os.path.exists(image_path):\n",
    "        try:\n",
    "            image_base64 = process_image_for_llm(image_path)\n",
    "            print(f\"Image processed successfully from {image_path}\")\n",
    "        except Exception as e:\n",
    "            print(f\"Error processing image: {e}\")\n",
    "    \n",
    "    # Create the user message\n",
    "    user_message = create_user_message(text_query, image_base64)\n",
    "    \n",
    "    print(\"\\n==== Running Poker Analysis Agent ====\\n\")\n",
    "    print(f\"User Query: {text_query}\\n\")\n",
    "    print(\"Image included:\" + (\" Yes\" if image_base64 else \" No\") + \"\\n\")\n",
    "    \n",
    "    # Run the agent\n",
    "    print(\"Agent Response:\")\n",
    "    for chunk in app.stream({\"messages\": [user_message]}, stream_mode=\"values\"):\n",
    "        try:\n",
    "            response = chunk[\"messages\"][-1].content\n",
    "            print(f\"{response}\\n\")\n",
    "        except Exception as e:\n",
    "            print(f\"Error in agent response: {e}\")\n",
    "    \n",
    "    print(\"==== Agent Execution Complete ====\\n\")\n",
    "    return \"Agent execution successful!\""
   ]
  },
  {
   "cell_type": "code",
   "execution_count": 22,
   "metadata": {},
   "outputs": [
    {
     "name": "stdout",
     "output_type": "stream",
     "text": [
      "Processed image size: 369x800, Base64 length: 71932\n",
      "Image processed successfully from ./src/tests/image.jpg\n",
      "\n",
      "==== Running Poker Analysis Agent ====\n",
      "\n",
      "User Query: I have KhQh (King of hearts, Queen of hearts) and the flop is Ah Th 2c.\n",
      "    What's my hand strength and what should I do if my opponent bets half the pot?\n",
      "\n",
      "Image included: Yes\n",
      "\n",
      "Agent Response:\n",
      "[{'type': 'image_url', 'image_url': {'url': 'data:image/jpeg;base64,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', 'detail': 'auto'}}, {'type': 'text', 'text': \"I have KhQh (King of hearts, Queen of hearts) and the flop is Ah Th 2c.\\n    What's my hand strength and what should I do if my opponent bets half the pot?\"}]\n",
      "\n",
      "<has_function_call>I am calculating your hand strength with the given cards.\n",
      "\n",
      "0.75\n",
      "\n",
      "Your hand strength with KhQh on a board of AhTh2c is approximately 0.75, which is quite strong. Given that your opponent has bet half the pot, this suggests they might have a decent hand but not necessarily a strong one. Considering your hand strength, you should consider raising to put pressure on your opponent. A raise of about 2.5 to 3 times the bet could be appropriate, depending on your read of the opponent and the game dynamics.\n",
      "\n",
      "==== Agent Execution Complete ====\n",
      "\n",
      "Agent execution successful!\n"
     ]
    }
   ],
   "source": [
    "# Execute the agent to verify functionality\n",
    "result = run_poker_agent()\n",
    "print(result)"
   ]
  },
  {
   "cell_type": "markdown",
   "metadata": {},
   "source": [
    "## Conclusion\n",
    "\n",
    "In this notebook, we've created a poker analysis agent using LangGraph that can:\n",
    "- Calculate hand strength using Monte Carlo simulations\n",
    "- Provide strategic advice based on mathematical analysis\n",
    "- Process poker hands from both text descriptions and optional images\n",
    "\n",
    "The agent demonstrates how LangGraph enables the creation of sophisticated agents with domain-specific capabilities by combining LLMs with specialized tools.\n",
    "\n",
    "Key improvements in this implementation:\n",
    "1. Made image input optional, allowing the agent to work with or without visual data\n",
    "2. Properly formatted user messages to handle the multi-modal content\n",
    "3. Added robust testing to verify agent functionality\n",
    "4. Created a comprehensive function to run the complete agent\n",
    "\n",
    "This approach can be extended to other games or decision-making scenarios where probabilistic analysis informs strategic choices."
   ]
  }
 ],
 "metadata": {
  "kernelspec": {
   "display_name": "Python 3",
   "language": "python",
   "name": "python3"
  },
  "language_info": {
   "codemirror_mode": {
    "name": "ipython",
    "version": 3
   },
   "file_extension": ".py",
   "mimetype": "text/x-python",
   "name": "python",
   "nbconvert_exporter": "python",
   "pygments_lexer": "ipython3",
   "version": "3.11.11"
  }
 },
 "nbformat": 4,
 "nbformat_minor": 2
}
