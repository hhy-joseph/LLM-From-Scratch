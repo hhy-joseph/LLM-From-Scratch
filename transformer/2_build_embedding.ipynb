{
 "cells": [
  {
   "cell_type": "markdown",
   "metadata": {},
   "source": [
    "# Custom Tokenizer and Embedding Implementation\n",
    "\n",
    "This notebook implements a custom tokenizer and embedding layer from scratch. These are fundamental components in natural language processing (NLP) systems:\n",
    "\n",
    "1. **Tokenizer**: Converts text into numerical indices by building a vocabulary from the training data. `1_build_tokenizer.ipynb` built the tokenizer.\n",
    "2. **Embedding Layer**: Transforms token indices into dense vector representations that capture semantic relationships.\n",
    "\n",
    "We'll build these components step by step and demonstrate their usage with examples."
   ]
  },
  {
   "cell_type": "code",
   "execution_count": 1,
   "metadata": {},
   "outputs": [],
   "source": [
    "from typing import Dict, List, Union, Tuple, Optional, Any\n",
    "import numpy as np\n",
    "\n",
    "class Tokenizer:\n",
    "    def __init__(self, max_vocab_size: int = 10000) -> None:\n",
    "        \"\"\"\n",
    "        Initialize a simple tokenizer with vocabulary building capabilities\n",
    "        \n",
    "        Args:\n",
    "            max_vocab_size (int): Maximum number of unique tokens to keep\n",
    "        \"\"\"\n",
    "        self.word_to_index: Dict[str, int] = {}\n",
    "        self.index_to_word: Dict[int, str] = {}\n",
    "        self.vocab_size: int = 0\n",
    "        self.max_vocab_size: int = max_vocab_size\n",
    "        \n",
    "        # Special tokens\n",
    "        self.pad_token: str = '<PAD>'\n",
    "        self.unk_token: str = '<UNK>'\n",
    "        self.sos_token: str = '<SOS>'  # Start of Sequence \n",
    "        self.eos_token: str = '<EOS>'  # End of Sequence\n",
    "        self._add_special_tokens()\n",
    "    \n",
    "    def _add_to_vocab(self, word: str) -> int:\n",
    "        \"\"\"Add a word to the vocabulary\"\"\"\n",
    "        if word not in self.word_to_index:\n",
    "            # If we still can add vocab\n",
    "            if self.vocab_size < self.max_vocab_size:\n",
    "                self.word_to_index[word] = self.vocab_size\n",
    "                self.index_to_word[self.vocab_size] = word\n",
    "                self.vocab_size += 1\n",
    "                # Return the latest index\n",
    "                return self.word_to_index[word]\n",
    "        # If the word already in the index of word if there \n",
    "        # OR max_vocab reached, return UNKNOWN Token\n",
    "        return self.word_to_index.get(word, self.word_to_index[self.unk_token])\n",
    "\n",
    "    def _add_special_tokens(self) -> None:\n",
    "        \"\"\"Add special tokens to the vocabulary\"\"\"\n",
    "        self._add_to_vocab(self.pad_token)\n",
    "        self._add_to_vocab(self.unk_token)\n",
    "        self._add_to_vocab(self.sos_token)\n",
    "        self._add_to_vocab(self.eos_token)\n",
    "\n",
    "    def fit_on_texts(self, texts: List[str]) -> None:\n",
    "        \"\"\"\n",
    "        Build vocabulary from input texts\n",
    "        \n",
    "        Args:\n",
    "            texts (List[str]): List of sentences or documents\n",
    "        \"\"\"\n",
    "        # Flatten and tokenize texts; split by space for simplification\n",
    "        # each item is a word\n",
    "        all_words: List[str] = [word for sentence in texts for word in sentence.split()]\n",
    "        \n",
    "        # Count word frequencies\n",
    "        # Ensures most common words are included first\n",
    "        word_counts: Dict[str, int] = {}\n",
    "        for word in all_words:\n",
    "            word_counts[word] = word_counts.get(word, 0) + 1\n",
    "        \n",
    "        # Sort words by frequency, descending order\n",
    "        sorted_words: List[Tuple[str, int]] = sorted(word_counts.items(), key=lambda x: x[1], reverse=True)\n",
    "        \n",
    "        # Add most frequent words to vocabulary\n",
    "        for word, _ in sorted_words:\n",
    "            self._add_to_vocab(word)\n",
    "\n",
    "    def texts_to_sequences(self, texts: List[str], add_sos_eos: bool = True) -> List[List[int]]:\n",
    "        \"\"\"\n",
    "        Convert texts to sequences of indices\n",
    "        \n",
    "        Args:\n",
    "            texts (List[str]): List of sentences or documents\n",
    "            add_sos_eos (bool): Whether to add Start and End of Sequence tokens\n",
    "        \n",
    "        Returns:\n",
    "            List[List[int]]: List of token indices\n",
    "        \"\"\"\n",
    "        sequences: List[List[int]] = []\n",
    "        for text in texts:\n",
    "            # Tokenize the text\n",
    "            tokens: List[str] = text.split()\n",
    "            \n",
    "            # Add special tokens if requested\n",
    "            if add_sos_eos:\n",
    "                tokens = [self.sos_token] + tokens + [self.eos_token]\n",
    "            \n",
    "            # Convert to indices\n",
    "            sequence: List[int] = [self.word_to_index.get(word, self.word_to_index[self.unk_token]) \n",
    "                        for word in tokens]\n",
    "            sequences.append(sequence)\n",
    "        \n",
    "        return sequences\n",
    "    \n",
    "    def pad_sequences(self, sequences: List[List[int]], max_length: Optional[int] = None) -> np.ndarray:\n",
    "        \"\"\"\n",
    "        Pad sequences to the same length\n",
    "        \n",
    "        Args:\n",
    "            sequences (List[List[int]]): List of sequences to pad\n",
    "            max_length (Optional[int]): Length to pad to. If None, uses the longest sequence.\n",
    "            \n",
    "        Returns:\n",
    "            np.ndarray: Padded sequences as a 2D numpy array\n",
    "        \"\"\"\n",
    "        # Find max sequence length if not provided\n",
    "        if max_length is None:\n",
    "            max_length = max(len(seq) for seq in sequences)\n",
    "            \n",
    "        # Initialize padded array with padding token\n",
    "        padded_sequences = np.full((len(sequences), max_length), self.word_to_index[self.pad_token])\n",
    "        \n",
    "        # Fill in the actual sequences\n",
    "        for i, seq in enumerate(sequences):\n",
    "            # Truncate if needed\n",
    "            seq_len = min(len(seq), max_length)\n",
    "            padded_sequences[i, :seq_len] = seq[:seq_len]\n",
    "            \n",
    "        return padded_sequences"
   ]
  },
  {
   "cell_type": "code",
   "execution_count": 2,
   "metadata": {},
   "outputs": [],
   "source": [
    "class Embedding:\n",
    "    \"\"\"\n",
    "    A custom embedding layer that converts token indices to vector representations\n",
    "    \"\"\"\n",
    "    def __init__(self, vocab_size: int, embedding_dim: int, \n",
    "                 padding_idx: Optional[int] = None) -> None:\n",
    "        \"\"\"\n",
    "        Initialize embedding layer with random weights\n",
    "        \n",
    "        Args:\n",
    "            vocab_size (int): Size of vocabulary (number of unique tokens)\n",
    "            embedding_dim (int): Dimension of embedding vectors\n",
    "            padding_idx (Optional[int]): Index of padding token to zero out\n",
    "        \"\"\"\n",
    "        # Initialize embeddings with small random values\n",
    "        self.weights: np.ndarray = np.random.normal(0, 0.1, (vocab_size, embedding_dim))\n",
    "        \n",
    "        # If padding index provided, set those embeddings to zero\n",
    "        if padding_idx is not None:\n",
    "            self.weights[padding_idx] = np.zeros(embedding_dim)\n",
    "        \n",
    "        self.vocab_size: int = vocab_size\n",
    "        self.embedding_dim: int = embedding_dim\n",
    "    \n",
    "    def forward(self, indices: Union[int, List[int], List[List[int]], np.ndarray]) -> np.ndarray:\n",
    "        \"\"\"\n",
    "        Convert token indices to embeddings\n",
    "        \n",
    "        Args:\n",
    "            indices: Token indices, can be a single index, a sequence (list/array),\n",
    "                     or a batch of sequences (2D list/array)\n",
    "            \n",
    "        Returns:\n",
    "            np.ndarray: Corresponding embedding vectors\n",
    "        \"\"\"\n",
    "        # Handle single index\n",
    "        if isinstance(indices, int):\n",
    "            return self.weights[indices]\n",
    "        \n",
    "        # Handle sequence (list or 1D array)\n",
    "        if isinstance(indices, list) and (not indices or not isinstance(indices[0], list)):\n",
    "            return np.array([self.weights[idx] for idx in indices])\n",
    "        elif isinstance(indices, np.ndarray) and indices.ndim == 1:\n",
    "            return self.weights[indices]\n",
    "        \n",
    "        # Handle batch of sequences (2D list or 2D array)\n",
    "        # This is where the error occurred - handling sequences of different lengths\n",
    "        if isinstance(indices, list):\n",
    "            # For batch processing of different length sequences, we'll use a different approach\n",
    "            # Process each sequence separately and return them as a list\n",
    "            return [np.array([self.weights[idx] for idx in seq]) for seq in indices]\n",
    "        elif isinstance(indices, np.ndarray) and indices.ndim == 2:\n",
    "            batch_size, seq_length = indices.shape\n",
    "            result = np.zeros((batch_size, seq_length, self.embedding_dim))\n",
    "            for i in range(batch_size):\n",
    "                result[i] = self.weights[indices[i]]\n",
    "            return result\n",
    "        \n",
    "        raise ValueError(f\"Unsupported indices type or shape: {type(indices)}\")\n",
    "    \n",
    "    def __call__(self, indices: Union[int, List[int], List[List[int]], np.ndarray]) -> np.ndarray:\n",
    "        \"\"\"\n",
    "        Make the class callable for convenience\n",
    "        \"\"\"\n",
    "        return self.forward(indices)"
   ]
  },
  {
   "cell_type": "markdown",
   "metadata": {},
   "source": [
    "## Basic Tokenization Example\n",
    "\n",
    "Let's see how our tokenizer works with some sample text data. We'll create a tokenizer, build a vocabulary, and convert texts to numerical sequences."
   ]
  },
  {
   "cell_type": "code",
   "execution_count": 3,
   "metadata": {},
   "outputs": [
    {
     "name": "stdout",
     "output_type": "stream",
     "text": [
      "Vocabulary size: 16\n",
      "Word to index mapping:\n",
      "  <PAD>: 0\n",
      "  <UNK>: 1\n",
      "  <SOS>: 2\n",
      "  <EOS>: 3\n",
      "  the: 4\n",
      "  lazy: 5\n",
      "  dog: 6\n",
      "  quick: 7\n",
      "  brown: 8\n",
      "  fox: 9\n",
      "  jumps: 10\n",
      "  over: 11\n",
      "  a: 12\n",
      "  sleeps: 13\n",
      "  all: 14\n",
      "  day: 15\n",
      "\n",
      "Tokenized Sequences:\n",
      "[[2, 4, 7, 8, 9, 10, 11, 4, 5, 6, 3], [2, 12, 7, 8, 9, 10, 11, 12, 5, 6, 3], [2, 4, 5, 6, 13, 14, 15, 3]]\n"
     ]
    }
   ],
   "source": [
    "# Sample data for tokenizer\n",
    "texts = [\n",
    "    \"the quick brown fox jumps over the lazy dog\",\n",
    "    \"a quick brown fox jumps over a lazy dog\",\n",
    "    \"the lazy dog sleeps all day\"\n",
    "]\n",
    "\n",
    "# Create tokenizer\n",
    "tokenizer = Tokenizer()\n",
    "\n",
    "# Fit tokenizer on texts\n",
    "tokenizer.fit_on_texts(texts)\n",
    "\n",
    "# Convert texts to sequences\n",
    "sequences = tokenizer.texts_to_sequences(texts)\n",
    "\n",
    "# Print sequences\n",
    "print(\"Vocabulary size:\", tokenizer.vocab_size)\n",
    "print(\"Word to index mapping:\")\n",
    "for word, idx in sorted(tokenizer.word_to_index.items(), key=lambda x: x[1]):\n",
    "    print(f\"  {word}: {idx}\")\n",
    "print(\"\\nTokenized Sequences:\")\n",
    "print(sequences)"
   ]
  },
  {
   "cell_type": "markdown",
   "metadata": {},
   "source": [
    "## Working with Embeddings\n",
    "\n",
    "Now we'll demonstrate how to use the embedding layer with our tokenized sequences:"
   ]
  },
  {
   "cell_type": "code",
   "execution_count": 4,
   "metadata": {},
   "outputs": [
    {
     "name": "stdout",
     "output_type": "stream",
     "text": [
      "\n",
      "Embedding for 'the' (index 4):\n",
      "[ 0.11329806 -0.1241075  -0.04422653  0.06711329  0.10363299]\n",
      "Shape: (5,)\n"
     ]
    }
   ],
   "source": [
    "# Create embedding layer\n",
    "embedding_dim = 5  # Small dimension for demonstration\n",
    "embedding = Embedding(\n",
    "    vocab_size=tokenizer.vocab_size,\n",
    "    embedding_dim=embedding_dim,\n",
    "    padding_idx=tokenizer.word_to_index[tokenizer.pad_token]\n",
    ")\n",
    "\n",
    "# Get embedding for a single token\n",
    "token_idx = tokenizer.word_to_index.get(\"the\", tokenizer.word_to_index[tokenizer.unk_token])\n",
    "token_embedding = embedding(token_idx)\n",
    "print(f\"\\nEmbedding for 'the' (index {token_idx}):\")\n",
    "print(token_embedding)\n",
    "print(f\"Shape: {token_embedding.shape}\")"
   ]
  },
  {
   "cell_type": "code",
   "execution_count": 5,
   "metadata": {},
   "outputs": [
    {
     "name": "stdout",
     "output_type": "stream",
     "text": [
      "\n",
      "Embeddings for first sequence:\n",
      "Sequence: [2, 4, 7, 8, 9, 10, 11, 4, 5, 6, 3]\n",
      "Shape: (11, 5)\n",
      "First few embeddings:\n",
      "[[-0.1171221  -0.14677965  0.02048344 -0.170987   -0.06683971]\n",
      " [ 0.11329806 -0.1241075  -0.04422653  0.06711329  0.10363299]\n",
      " [-0.01834764  0.05104385  0.16511649  0.04451233  0.13995713]]\n"
     ]
    }
   ],
   "source": [
    "# Get embeddings for first sequence\n",
    "first_sequence = sequences[0]\n",
    "seq_embedding = embedding(first_sequence)\n",
    "print(f\"\\nEmbeddings for first sequence:\")\n",
    "print(f\"Sequence: {first_sequence}\")\n",
    "print(f\"Shape: {seq_embedding.shape}\")\n",
    "print(f\"First few embeddings:\\n{seq_embedding[:3]}\")"
   ]
  },
  {
   "cell_type": "markdown",
   "metadata": {},
   "source": [
    "## Batch Processing with Padding\n",
    "\n",
    "To process batches of sequences that may have different lengths, we'll use padding to make them uniform before embedding:"
   ]
  },
  {
   "cell_type": "code",
   "execution_count": 6,
   "metadata": {},
   "outputs": [
    {
     "name": "stdout",
     "output_type": "stream",
     "text": [
      "Padded sequences shape: (3, 11)\n",
      "Padded sequences:\n",
      " [[ 2  4  7  8  9 10 11  4  5  6  3]\n",
      " [ 2 12  7  8  9 10 11 12  5  6  3]\n",
      " [ 2  4  5  6 13 14 15  3  0  0  0]]\n",
      "\n",
      "Embeddings for all sequences (batch):\n",
      "Shape: (3, 11, 5)\n",
      "First sequence, first token embedding: [-0.1171221  -0.14677965  0.02048344 -0.170987   -0.06683971]\n"
     ]
    }
   ],
   "source": [
    "# Pad sequences to same length for batch processing\n",
    "padded_sequences = tokenizer.pad_sequences(sequences)\n",
    "print(\"Padded sequences shape:\", padded_sequences.shape)\n",
    "print(\"Padded sequences:\\n\", padded_sequences)\n",
    "\n",
    "# Get embeddings for all sequences (batch processing)\n",
    "batch_embedding = embedding(padded_sequences)\n",
    "print(f\"\\nEmbeddings for all sequences (batch):\")\n",
    "print(f\"Shape: {batch_embedding.shape}\")\n",
    "print(f\"First sequence, first token embedding: {batch_embedding[0, 0, :]}\")"
   ]
  },
  {
   "cell_type": "code",
   "execution_count": 7,
   "metadata": {},
   "outputs": [
    {
     "name": "stdout",
     "output_type": "stream",
     "text": [
      "\n",
      "Embedding for padding token (should be all zeros):\n",
      "[0. 0. 0. 0. 0.]\n"
     ]
    }
   ],
   "source": [
    "# Demonstrate padding does have zero embeddings\n",
    "pad_idx = tokenizer.word_to_index[tokenizer.pad_token]\n",
    "pad_embedding = embedding(pad_idx)\n",
    "print(f\"\\nEmbedding for padding token (should be all zeros):\")\n",
    "print(pad_embedding)"
   ]
  },
  {
   "cell_type": "markdown",
   "metadata": {},
   "source": [
    "## Application: Text Encoding and Word Similarity\n",
    "\n",
    "Let's use our tokenizer and embedding for some simple NLP tasks:"
   ]
  },
  {
   "cell_type": "code",
   "execution_count": 8,
   "metadata": {},
   "outputs": [
    {
     "name": "stdout",
     "output_type": "stream",
     "text": [
      "\n",
      "Encoded vector for 'the brown fox is quick':\n",
      "[-0.04610911  0.02681595 -0.01386664 -0.00947885  0.0176023 ]\n",
      "Shape: (5,)\n"
     ]
    }
   ],
   "source": [
    "# Example of a simple text encoder that averages embeddings\n",
    "def encode_text(text: str, tokenizer: Tokenizer, embedding: Embedding) -> np.ndarray:\n",
    "    \"\"\"Convert text to a fixed-length vector by averaging embeddings\"\"\"\n",
    "    sequence = tokenizer.texts_to_sequences([text])[0]\n",
    "    embedded = embedding(sequence)\n",
    "    # Average all embeddings (excluding special tokens if desired)\n",
    "    return np.mean(embedded, axis=0)\n",
    "\n",
    "# Encode a new text\n",
    "new_text = \"the brown fox is quick\"\n",
    "text_vector = encode_text(new_text, tokenizer, embedding)\n",
    "print(f\"\\nEncoded vector for '{new_text}':\")\n",
    "print(text_vector)\n",
    "print(f\"Shape: {text_vector.shape}\")"
   ]
  },
  {
   "cell_type": "code",
   "execution_count": 9,
   "metadata": {},
   "outputs": [
    {
     "data": {
      "image/png": "[encoded data removed]",
      "text/plain": [
       "<Figure size 1000x800 with 1 Axes>"
      ]
     },
     "metadata": {},
     "output_type": "display_data"
    }
   ],
   "source": [
    "# Visualize embeddings for the first few tokens\n",
    "import matplotlib.pyplot as plt\n",
    "\n",
    "def plot_embeddings(tokenizer: Tokenizer, embedding: Embedding, n_tokens: int = 10) -> None:\n",
    "    \"\"\"Plot the first 2 dimensions of embeddings for visualization\"\"\"\n",
    "    tokens = list(tokenizer.word_to_index.keys())[:n_tokens]\n",
    "    indices = [tokenizer.word_to_index[token] for token in tokens]\n",
    "    \n",
    "    # Get embeddings for these tokens\n",
    "    token_embeddings = np.array([embedding(idx) for idx in indices])\n",
    "    \n",
    "    # Plot first 2 dimensions\n",
    "    plt.figure(figsize=(10, 8))\n",
    "    plt.scatter(token_embeddings[:, 0], token_embeddings[:, 1], s=100)\n",
    "    \n",
    "    # Label each point with the token\n",
    "    for i, token in enumerate(tokens):\n",
    "        plt.annotate(token, (token_embeddings[i, 0], token_embeddings[i, 1]), \n",
    "                     fontsize=12, alpha=0.8)\n",
    "    \n",
    "    plt.title('Token Embeddings Visualization (2D)', fontsize=14)\n",
    "    plt.xlabel('Dimension 1', fontsize=12)\n",
    "    plt.ylabel('Dimension 2', fontsize=12)\n",
    "    plt.grid(True, linestyle='--', alpha=0.7)\n",
    "    plt.show()\n",
    "\n",
    "# Visualize embeddings\n",
    "plot_embeddings(tokenizer, embedding)"
   ]
  },
  {
   "cell_type": "code",
   "execution_count": 10,
   "metadata": {},
   "outputs": [
    {
     "name": "stdout",
     "output_type": "stream",
     "text": [
      "\n",
      "Word similarities:\n",
      "Similarity between 'quick' and 'brown': -0.0952\n",
      "Similarity between 'fox' and 'dog': -0.5933\n",
      "Similarity between 'lazy' and 'sleeps': -0.4721\n"
     ]
    }
   ],
   "source": [
    "# Advanced: Using embeddings for simple word similarity\n",
    "def word_similarity(word1: str, word2: str, tokenizer: Tokenizer, embedding: Embedding) -> Union[str, float]:\n",
    "    \"\"\"Calculate cosine similarity between word embeddings\"\"\"\n",
    "    if word1 not in tokenizer.word_to_index or word2 not in tokenizer.word_to_index:\n",
    "        return \"One or both words not in vocabulary\"\n",
    "    \n",
    "    # Get word indices\n",
    "    idx1 = tokenizer.word_to_index[word1]\n",
    "    idx2 = tokenizer.word_to_index[word2]\n",
    "    \n",
    "    # Get embeddings\n",
    "    emb1 = embedding(idx1)\n",
    "    emb2 = embedding(idx2)\n",
    "    \n",
    "    # Calculate cosine similarity\n",
    "    dot_product = np.dot(emb1, emb2)\n",
    "    norm1 = np.linalg.norm(emb1)\n",
    "    norm2 = np.linalg.norm(emb2)\n",
    "    \n",
    "    return dot_product / (norm1 * norm2)\n",
    "\n",
    "# Calculate similarity between pairs of words\n",
    "word_pairs = [\n",
    "    ('quick', 'brown'),\n",
    "    ('fox', 'dog'),\n",
    "    ('lazy', 'sleeps')\n",
    "]\n",
    "\n",
    "print(\"\\nWord similarities:\")\n",
    "for word1, word2 in word_pairs:\n",
    "    similarity = word_similarity(word1, word2, tokenizer, embedding)\n",
    "    print(f\"Similarity between '{word1}' and '{word2}': {similarity:.4f}\")"
   ]
  },
  {
   "cell_type": "markdown",
   "metadata": {},
   "source": [
    "## Conclusion\n",
    "\n",
    "In this notebook, we've built and demonstrated a complete custom tokenizer and embedding implementation. These components form the foundation of many NLP models. Our implementation includes:\n",
    "\n",
    "1. Vocabulary building from text data\n",
    "2. Text-to-sequence conversion\n",
    "3. Sequence padding for batch processing\n",
    "4. Token embedding generation\n",
    "5. Simple applications like text encoding and word similarity\n",
    "\n",
    "For real-world applications, you would typically use more sophisticated tokenization methods (subword tokenizers like BPE or WordPiece) and pre-trained embeddings (like Word2Vec, GloVe, or contextual embeddings from transformer models). However, this implementation provides a good foundation for understanding the core concepts."
   ]
  }
 ],
 "metadata": {
  "kernelspec": {
   "display_name": ".venv",
   "language": "python",
   "name": "python3"
  },
  "language_info": {
   "codemirror_mode": {
    "name": "ipython",
    "version": 3
   },
   "file_extension": ".py",
   "mimetype": "text/x-python",
   "name": "python",
   "nbconvert_exporter": "python",
   "pygments_lexer": "ipython3",
   "version": "3.11.11"
  }
 },
 "nbformat": 4,
 "nbformat_minor": 2
}
