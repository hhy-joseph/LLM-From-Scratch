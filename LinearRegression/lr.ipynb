{
 "cells": [
  {
   "cell_type": "code",
   "execution_count": 1,
   "metadata": {},
   "outputs": [],
   "source": [
    "X = [1, 2, 3, 4, 5]\n",
    "Y = [2, 4, 5, 4, 5]"
   ]
  },
  {
   "cell_type": "markdown",
   "metadata": {},
   "source": [
    "## Simple Linear Regression (One Feature)\n",
    "\n",
    "I will use gradient descent approach to do it.\n",
    "\n",
    "Gradient descent iteratively adjusts \n",
    "𝑚 and 𝑏 to minimize the MSE. The partial derivatives of the MSE with respect to \n",
    "- m is the slope (weight),\n",
    "- 𝑏 is the intercept (bias),\n",
    "- The goal is to minimize the mean squared error"
   ]
  },
  {
   "cell_type": "code",
   "execution_count": 2,
   "metadata": {},
   "outputs": [
    {
     "name": "stdout",
     "output_type": "stream",
     "text": [
      "Slope: 0.6176946148762643, Intercept: 2.136116825825789\n",
      "Predictions: [2.7538114407020533, 3.3715060555783176, 3.989200670454582, 4.606895285330847, 5.224589900207111]\n"
     ]
    }
   ],
   "source": [
    "def gradient_descent(x, y, learning_rate=0.01, epochs=1000):\n",
    "    n = len(x)\n",
    "    m = 0\n",
    "    b = 0\n",
    "\n",
    "    for i in range(epochs):\n",
    "        y_pred = [m * xi + b for xi in x]\n",
    "        # Calculate gradients\n",
    "\n",
    "        dm = (-2 / n) * sum(xi * (yi - y_predi) for xi, yi, y_predi in zip(x, y, y_pred))\n",
    "        db = (-2 / n) * sum(yi - y_predi for yi, y_predi in zip(y, y_pred))\n",
    "        # Update parameters\n",
    "        m -= learning_rate * dm\n",
    "        b -= learning_rate * db\n",
    "    \n",
    "    return m, b\n",
    "\n",
    "def predict(x, m, b):\n",
    "    return [m * xi + b for xi in x]\n",
    "\n",
    "m, b = gradient_descent(X, Y, learning_rate=0.01, epochs=1000)\n",
    "print(f\"Slope: {m}, Intercept: {b}\")\n",
    "predictions = predict(X, m, b)\n",
    "print(f\"Predictions: {predictions}\")"
   ]
  },
  {
   "cell_type": "markdown",
   "metadata": {},
   "source": [
    "## Multiple Features Linear regression"
   ]
  },
  {
   "cell_type": "code",
   "execution_count": 3,
   "metadata": {},
   "outputs": [],
   "source": [
    "def multiple_linear_regression(X, y, learning_rate=0.01, epochs=1000):\n",
    "    n = len(y)\n",
    "    n_features = len(X[0])  # Number of features\n",
    "    weights = [0] * n_features  # Initialize weights\n",
    "    intercept = 0  # Initialize intercept\n",
    "    \n",
    "    for _ in range(epochs):\n",
    "        # Calculate predictions\n",
    "        y_pred = []\n",
    "        for i in range(n):\n",
    "            pred = intercept\n",
    "            for j in range(n_features):\n",
    "                pred += X[i][j] * weights[j]\n",
    "            y_pred.append(pred)\n",
    "        d_intercept = (-2 / n) * sum(yi - y_predi for yi, y_predi in zip(y, y_pred))\n",
    "        d_weights = [0] * n_features\n",
    "\n",
    "        for j in range(n_features):\n",
    "            d_weights[j] = (-2 / n) * sum((yi - y_predi) * X[i][j] \n",
    "                                         for i, (yi, y_predi) in enumerate(zip(y, y_pred)))\n",
    "        intercept -= learning_rate*d_intercept\n",
    "\n",
    "        for j in range(n_features):\n",
    "            weights[j] -= learning_rate*d_weights[j]\n",
    "    return intercept , weights"
   ]
  },
  {
   "cell_type": "code",
   "execution_count": 4,
   "metadata": {},
   "outputs": [],
   "source": [
    "def multiple_linear_regression(X, \n",
    "                               y, \n",
    "                               learning_rate=0.01, \n",
    "                               epochs=1000):\n",
    "    n = len(y)\n",
    "    n_features = len(X[0])\n",
    "    weights = [0] * n_features\n",
    "    intercept = 0\n",
    "\n",
    "    for _ in range(epochs):\n",
    "        y_pred = []\n",
    "        for i in range(n):\n",
    "            pred = intercept\n",
    "            for j in range(n_features):\n",
    "                pred += weights[j] * X[i][j]\n",
    "            y_pred.append(pred)\n",
    "        # D here\n",
    "        d_intercept = (-2/n) * sum(yi-ypred for yi, ypred in zip(y,y_pred))\n",
    "        d_weights = [0] * n_features\n",
    "        for j in range(n_features):\n",
    "            d_weights[j] = (-2/n) * sum((y[i] - y_pred[i]) * X[i][j] for i in range(n))\n",
    "        # Update\n",
    "        intercept -= learning_rate * d_intercept\n",
    "        for j in range(n_features):\n",
    "            weights[j] -= learning_rate * d_weights[j]\n",
    "        \n",
    "    return intercept, weights\n",
    "\n",
    "def predict_multiple(X, intercept, weights):\n",
    "    predictions = []\n",
    "    for x in X:\n",
    "        pred = intercept\n",
    "        for j in range(len(weights)):\n",
    "            pred += weights[j] * x[j]\n",
    "        predictions.append(pred)\n",
    "    return predictions"
   ]
  },
  {
   "cell_type": "code",
   "execution_count": 5,
   "metadata": {},
   "outputs": [
    {
     "name": "stdout",
     "output_type": "stream",
     "text": [
      "Intercept: 1.2465057768387262, Weights: [-0.3195126154069794, 0.9269931614317464]\n",
      "Predictions: [2.78097948429524, 3.3884600303200063, 3.9959405763447737, 4.603421122369541, 5.210901668394307]\n"
     ]
    }
   ],
   "source": [
    "X = [[1, 2], [2, 3], [3, 4], [4, 5], [5, 6]]  # Two features\n",
    "y = [2, 4, 5, 4, 5]\n",
    "intercept, weights = multiple_linear_regression(X, y, learning_rate=0.01, epochs=1000)\n",
    "print(f\"Intercept: {intercept}, Weights: {weights}\")\n",
    "predictions = predict_multiple(X, intercept, weights)\n",
    "print(f\"Predictions: {predictions}\")"
   ]
  }
 ],
 "metadata": {
  "kernelspec": {
   "display_name": ".venv",
   "language": "python",
   "name": "python3"
  },
  "language_info": {
   "codemirror_mode": {
    "name": "ipython",
    "version": 3
   },
   "file_extension": ".py",
   "mimetype": "text/x-python",
   "name": "python",
   "nbconvert_exporter": "python",
   "pygments_lexer": "ipython3",
   "version": "3.11.11"
  }
 },
 "nbformat": 4,
 "nbformat_minor": 2
}
